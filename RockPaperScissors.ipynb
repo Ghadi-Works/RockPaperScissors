{
  "nbformat": 4,
  "nbformat_minor": 0,
  "metadata": {
    "colab": {
      "provenance": []
    },
    "kernelspec": {
      "name": "python3",
      "display_name": "Python 3"
    },
    "language_info": {
      "name": "python"
    }
  },
  "cells": [
    {
      "cell_type": "markdown",
      "source": [
        "# Python program for Rock, Paper, Scissors game!"
      ],
      "metadata": {
        "id": "TDDcVm9h_LhB"
      }
    },
    {
      "cell_type": "code",
      "source": [
        "import random\n",
        "print(\"Welcome to Rock, Paper, Scissors!\\n\")\n",
        "player_wins = 0\n",
        "computer_wins = 0\n",
        "\n",
        "while True:\n",
        "  player = input(\"\\nEnter a choice (rock, paper, scissors): \")\n",
        "  choices = [\"rock\", \"paper\", \"scissors\"]\n",
        "  computer = random.choice(choices)\n",
        "\n",
        "  if player == computer:\n",
        "    print(f\"Both players selected {player}. It is a tie!\")\n",
        "\n",
        "  elif player == \"rock\":\n",
        "    if computer == \"scissors\":\n",
        "      print(f\"\\nYou chose {player}, computer chose {computer}.\")\n",
        "      print(\"Rock smashes scissors. You win!\")\n",
        "      player_wins+=1\n",
        "    else:\n",
        "      print(f\"\\nYou chose {player}, computer chose {computer}.\")\n",
        "      print(\"Paper covers rock. You lose.\")\n",
        "      computer_wins+=1\n",
        "\n",
        "  elif player == \"paper\":\n",
        "    if computer == \"rock\":\n",
        "        print(f\"\\nYou chose {player}, computer chose {computer}.\")\n",
        "        print(\"Paper covers rock. You win!\")\n",
        "        player_wins+=1\n",
        "    else:\n",
        "        print(f\"\\nYou chose {player}, computer chose {computer}.\")\n",
        "        print(\"Scissors cuts paper. You lose.\")\n",
        "        computer_wins+=1\n",
        "\n",
        "  elif player == \"scissors\":\n",
        "    if computer == \"paper\":\n",
        "        print(f\"\\nYou chose {player}, computer chose {computer}.\")\n",
        "        print(\"Scissors cuts paper. You win!\")\n",
        "        player_wins+=1\n",
        "    else:\n",
        "        print(f\"\\nYou chose {player}, computer chose {computer}.\")\n",
        "        print(\"Rock smashes scissors. You lose.\")\n",
        "        computer_wins+=1\n",
        "\n",
        "\n",
        "  elif player=='end':\n",
        "        print(\"Final Scores:\")\n",
        "        print(f\"Computer: {computer_wins}\")\n",
        "        print(f\"Player: {player_wins}\")\n",
        "        break"
      ],
      "metadata": {
        "id": "lsPbX_qOOlLI"
      },
      "execution_count": null,
      "outputs": []
    }
  ]
}